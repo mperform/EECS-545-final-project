{
 "cells": [
  {
   "cell_type": "code",
   "execution_count": 1,
   "id": "cfba28bb",
   "metadata": {
    "_cell_guid": "b1076dfc-b9ad-4769-8c92-a6c4dae69d19",
    "_uuid": "8f2839f25d086af736a60e9eeb907d3b93b6e0e5",
    "execution": {
     "iopub.execute_input": "2025-03-13T00:16:38.240922Z",
     "iopub.status.busy": "2025-03-13T00:16:38.240602Z",
     "iopub.status.idle": "2025-03-13T00:16:39.580912Z",
     "shell.execute_reply": "2025-03-13T00:16:39.579719Z",
     "shell.execute_reply.started": "2025-03-13T00:16:38.240858Z"
    },
    "papermill": {
     "duration": 0.843909,
     "end_time": "2025-02-24T12:18:20.583973",
     "exception": false,
     "start_time": "2025-02-24T12:18:19.740064",
     "status": "completed"
    },
    "tags": [],
    "trusted": true
   },
   "outputs": [
    {
     "name": "stdout",
     "output_type": "stream",
     "text": [
      "sample_submission.csv\n",
      "train-metadata.csv\n",
      "test-metadata.csv\n",
      "test-image.hdf5\n",
      "train-image\n",
      "train-image.hdf5\n"
     ]
    }
   ],
   "source": [
    "# This Python 3 environment comes with many helpful analytics libraries installed\n",
    "# It is defined by the kaggle/python Docker image: https://github.com/kaggle/docker-python\n",
    "# For example, here's several helpful packages to load\n",
    "\n",
    "import numpy as np # linear algebra\n",
    "import pandas as pd # data processing, CSV file I/O (e.g. pd.read_csv)\n",
    "\n",
    "# Input data files are available in the read-only \"../input/\" directory\n",
    "# For example, running this (by clicking run or pressing Shift+Enter) will list all files under the input directory\n",
    "\n",
    "import os\n",
    "current_dir = \"/kaggle/input/isic-2024-challenge\"\n",
    "\n",
    "# List all files in the current directory (excluding subdirectories)\n",
    "files_in_dir = [f for f in os.listdir(current_dir)]\n",
    "for file in files_in_dir:\n",
    "    print(file)\n",
    "\n",
    "    \n",
    "# You can write up to 20GB to the current directory (/kaggle/working/) that gets preserved as output when you create a version using \"Save & Run All\" \n",
    "# You can also write temporary files to /kaggle/temp/, but they won't be saved outside of the current session"
   ]
  },
  {
   "cell_type": "markdown",
   "id": "6e686aee",
   "metadata": {
    "papermill": {
     "duration": 0.008484,
     "end_time": "2025-02-24T12:18:20.601960",
     "exception": false,
     "start_time": "2025-02-24T12:18:20.593476",
     "status": "completed"
    },
    "tags": []
   },
   "source": [
    "## Libraries and dependencies"
   ]
  },
  {
   "cell_type": "code",
   "execution_count": 5,
   "id": "08612773",
   "metadata": {
    "execution": {
     "iopub.execute_input": "2025-03-13T00:19:10.493925Z",
     "iopub.status.busy": "2025-03-13T00:19:10.493417Z",
     "iopub.status.idle": "2025-03-13T00:19:10.519982Z",
     "shell.execute_reply": "2025-03-13T00:19:10.518483Z",
     "shell.execute_reply.started": "2025-03-13T00:19:10.493856Z"
    },
    "papermill": {
     "duration": 6.012196,
     "end_time": "2025-02-24T12:18:26.622909",
     "exception": false,
     "start_time": "2025-02-24T12:18:20.610713",
     "status": "completed"
    },
    "tags": [],
    "trusted": true
   },
   "outputs": [],
   "source": [
    "import numpy as np \n",
    "import pandas as pd \n",
    "import os \n",
    "import h5py\n",
    "import cv2\n",
    "from google.colab.patches import cv2_imshow\n",
    "from IPython.display import display, Javascript\n",
    "import plotly.express as px\n",
    "from sklearn.model_selection import train_test_split,cross_val_score\n",
    "from sklearn.compose import ColumnTransformer\n",
    "from sklearn.pipeline import Pipeline\n",
    "from sklearn.experimental import enable_iterative_imputer\n",
    "from sklearn.impute import IterativeImputer,KNNImputer\n",
    "from sklearn.preprocessing import MinMaxScaler, OneHotEncoder, FunctionTransformer\n",
    "from sklearn.feature_extraction import FeatureHasher\n",
    "from sklearn.ensemble import RandomForestClassifier, RandomForestRegressor\n",
    "from sklearn.metrics import accuracy_score, mean_squared_error,get_scorer_names\n",
    "from sklearn.preprocessing import LabelEncoder,MinMaxScaler\n",
    "from sklearn.linear_model import LogisticRegression, LinearRegression,SGDClassifier,BayesianRidge\n",
    "from sklearn.utils import resample\n",
    "from sklearn.impute import SimpleImputer\n",
    "from sklearn.preprocessing import OneHotEncoder, StandardScaler\n",
    "from sklearn.compose import ColumnTransformer\n",
    "from sklearn.pipeline import Pipeline\n",
    "from imblearn.combine import *\n",
    "from imblearn.under_sampling import *\n",
    "from imblearn.over_sampling import *\n",
    "from imblearn.pipeline import Pipeline\n",
    "import plotly.graph_objects as go\n",
    "from plotly.subplots import make_subplots\n",
    "import xgboost as xgb\n",
    "from sklearn.model_selection import cross_val_score\n",
    "from sklearn.metrics import roc_auc_score\n",
    "import lightgbm as lgb\n",
    "import catboost as cb\n",
    "from sklearn.ensemble import VotingClassifier,StackingClassifier"
   ]
  },
  {
   "cell_type": "code",
   "execution_count": 3,
   "id": "f519985f",
   "metadata": {
    "execution": {
     "iopub.execute_input": "2025-03-13T00:18:54.728927Z",
     "iopub.status.busy": "2025-03-13T00:18:54.727569Z",
     "iopub.status.idle": "2025-03-13T00:19:10.479143Z",
     "shell.execute_reply": "2025-03-13T00:19:10.477738Z",
     "shell.execute_reply.started": "2025-03-13T00:18:54.728863Z"
    },
    "papermill": {
     "duration": 9.315857,
     "end_time": "2025-02-24T12:18:35.947762",
     "exception": false,
     "start_time": "2025-02-24T12:18:26.631905",
     "status": "completed"
    },
    "tags": [],
    "trusted": true
   },
   "outputs": [
    {
     "name": "stdout",
     "output_type": "stream",
     "text": [
      "3.5.0\n"
     ]
    }
   ],
   "source": [
    "# Deep learning keras libraries\n",
    "import keras\n",
    "print(keras.__version__)\n",
    "import tensorflow as tf"
   ]
  },
  {
   "cell_type": "markdown",
   "id": "3b6be060",
   "metadata": {
    "execution": {
     "iopub.execute_input": "2025-01-05T09:46:53.328913Z",
     "iopub.status.busy": "2025-01-05T09:46:53.328514Z",
     "iopub.status.idle": "2025-01-05T09:46:53.343640Z",
     "shell.execute_reply": "2025-01-05T09:46:53.341650Z",
     "shell.execute_reply.started": "2025-01-05T09:46:53.328878Z"
    },
    "papermill": {
     "duration": 0.010133,
     "end_time": "2025-02-24T12:18:35.967105",
     "exception": false,
     "start_time": "2025-02-24T12:18:35.956972",
     "status": "completed"
    },
    "tags": []
   },
   "source": [
    "## Data loading\n"
   ]
  },
  {
   "cell_type": "code",
   "execution_count": 6,
   "id": "a983f95e",
   "metadata": {
    "execution": {
     "iopub.execute_input": "2025-03-13T00:19:11.168871Z",
     "iopub.status.busy": "2025-03-13T00:19:11.168480Z",
     "iopub.status.idle": "2025-03-13T00:19:11.222223Z",
     "shell.execute_reply": "2025-03-13T00:19:11.220524Z",
     "shell.execute_reply.started": "2025-03-13T00:19:11.168822Z"
    },
    "papermill": {
     "duration": 0.059275,
     "end_time": "2025-02-24T12:18:36.035635",
     "exception": false,
     "start_time": "2025-02-24T12:18:35.976360",
     "status": "completed"
    },
    "tags": [],
    "trusted": true
   },
   "outputs": [
    {
     "name": "stdout",
     "output_type": "stream",
     "text": [
      "<class 'pandas.core.frame.DataFrame'>\n",
      "RangeIndex: 3 entries, 0 to 2\n",
      "Data columns (total 2 columns):\n",
      " #   Column   Non-Null Count  Dtype  \n",
      "---  ------   --------------  -----  \n",
      " 0   isic_id  3 non-null      object \n",
      " 1   target   3 non-null      float64\n",
      "dtypes: float64(1), object(1)\n",
      "memory usage: 176.0+ bytes\n"
     ]
    }
   ],
   "source": [
    "current_dir = \"/kaggle/input/isic-2024-challenge\"\n",
    "sample_submission = pd.read_csv(os.path.join(current_dir,'sample_submission.csv'))\n",
    "sample_submission.info()"
   ]
  },
  {
   "cell_type": "code",
   "execution_count": 7,
   "id": "3661094e",
   "metadata": {
    "execution": {
     "iopub.execute_input": "2025-03-13T00:19:13.250573Z",
     "iopub.status.busy": "2025-03-13T00:19:13.250113Z",
     "iopub.status.idle": "2025-03-13T00:19:13.283734Z",
     "shell.execute_reply": "2025-03-13T00:19:13.282649Z",
     "shell.execute_reply.started": "2025-03-13T00:19:13.250537Z"
    },
    "papermill": {
     "duration": 0.026749,
     "end_time": "2025-02-24T12:18:36.071437",
     "exception": false,
     "start_time": "2025-02-24T12:18:36.044688",
     "status": "completed"
    },
    "tags": [],
    "trusted": true
   },
   "outputs": [
    {
     "data": {
      "text/html": [
       "<div>\n",
       "<style scoped>\n",
       "    .dataframe tbody tr th:only-of-type {\n",
       "        vertical-align: middle;\n",
       "    }\n",
       "\n",
       "    .dataframe tbody tr th {\n",
       "        vertical-align: top;\n",
       "    }\n",
       "\n",
       "    .dataframe thead th {\n",
       "        text-align: right;\n",
       "    }\n",
       "</style>\n",
       "<table border=\"1\" class=\"dataframe\">\n",
       "  <thead>\n",
       "    <tr style=\"text-align: right;\">\n",
       "      <th></th>\n",
       "      <th>isic_id</th>\n",
       "      <th>target</th>\n",
       "    </tr>\n",
       "  </thead>\n",
       "  <tbody>\n",
       "    <tr>\n",
       "      <th>0</th>\n",
       "      <td>ISIC_0015657</td>\n",
       "      <td>0.3</td>\n",
       "    </tr>\n",
       "    <tr>\n",
       "      <th>1</th>\n",
       "      <td>ISIC_0015729</td>\n",
       "      <td>0.3</td>\n",
       "    </tr>\n",
       "    <tr>\n",
       "      <th>2</th>\n",
       "      <td>ISIC_0015740</td>\n",
       "      <td>0.3</td>\n",
       "    </tr>\n",
       "  </tbody>\n",
       "</table>\n",
       "</div>"
      ],
      "text/plain": [
       "        isic_id  target\n",
       "0  ISIC_0015657     0.3\n",
       "1  ISIC_0015729     0.3\n",
       "2  ISIC_0015740     0.3"
      ]
     },
     "execution_count": 7,
     "metadata": {},
     "output_type": "execute_result"
    }
   ],
   "source": [
    "sample_submission.head()"
   ]
  },
  {
   "cell_type": "code",
   "execution_count": 11,
   "id": "75cb8067",
   "metadata": {
    "execution": {
     "iopub.execute_input": "2025-03-13T00:19:36.097768Z",
     "iopub.status.busy": "2025-03-13T00:19:36.097393Z",
     "iopub.status.idle": "2025-03-13T00:19:43.645564Z",
     "shell.execute_reply": "2025-03-13T00:19:43.644263Z",
     "shell.execute_reply.started": "2025-03-13T00:19:36.097741Z"
    },
    "papermill": {
     "duration": 9.469933,
     "end_time": "2025-02-24T12:18:45.550537",
     "exception": false,
     "start_time": "2025-02-24T12:18:36.080604",
     "status": "completed"
    },
    "tags": [],
    "trusted": true
   },
   "outputs": [
    {
     "name": "stdout",
     "output_type": "stream",
     "text": [
      "<class 'pandas.core.frame.DataFrame'>\n",
      "RangeIndex: 401059 entries, 0 to 401058\n",
      "Data columns (total 55 columns):\n",
      " #   Column                        Non-Null Count   Dtype  \n",
      "---  ------                        --------------   -----  \n",
      " 0   isic_id                       401059 non-null  object \n",
      " 1   target                        401059 non-null  int64  \n",
      " 2   patient_id                    401059 non-null  object \n",
      " 3   age_approx                    398261 non-null  float64\n",
      " 4   sex                           389542 non-null  object \n",
      " 5   anatom_site_general           395303 non-null  object \n",
      " 6   clin_size_long_diam_mm        401059 non-null  float64\n",
      " 7   image_type                    401059 non-null  object \n",
      " 8   tbp_tile_type                 401059 non-null  object \n",
      " 9   tbp_lv_A                      401059 non-null  float64\n",
      " 10  tbp_lv_Aext                   401059 non-null  float64\n",
      " 11  tbp_lv_B                      401059 non-null  float64\n",
      " 12  tbp_lv_Bext                   401059 non-null  float64\n",
      " 13  tbp_lv_C                      401059 non-null  float64\n",
      " 14  tbp_lv_Cext                   401059 non-null  float64\n",
      " 15  tbp_lv_H                      401059 non-null  float64\n",
      " 16  tbp_lv_Hext                   401059 non-null  float64\n",
      " 17  tbp_lv_L                      401059 non-null  float64\n",
      " 18  tbp_lv_Lext                   401059 non-null  float64\n",
      " 19  tbp_lv_areaMM2                401059 non-null  float64\n",
      " 20  tbp_lv_area_perim_ratio       401059 non-null  float64\n",
      " 21  tbp_lv_color_std_mean         401059 non-null  float64\n",
      " 22  tbp_lv_deltaA                 401059 non-null  float64\n",
      " 23  tbp_lv_deltaB                 401059 non-null  float64\n",
      " 24  tbp_lv_deltaL                 401059 non-null  float64\n",
      " 25  tbp_lv_deltaLB                401059 non-null  float64\n",
      " 26  tbp_lv_deltaLBnorm            401059 non-null  float64\n",
      " 27  tbp_lv_eccentricity           401059 non-null  float64\n",
      " 28  tbp_lv_location               401059 non-null  object \n",
      " 29  tbp_lv_location_simple        401059 non-null  object \n",
      " 30  tbp_lv_minorAxisMM            401059 non-null  float64\n",
      " 31  tbp_lv_nevi_confidence        401059 non-null  float64\n",
      " 32  tbp_lv_norm_border            401059 non-null  float64\n",
      " 33  tbp_lv_norm_color             401059 non-null  float64\n",
      " 34  tbp_lv_perimeterMM            401059 non-null  float64\n",
      " 35  tbp_lv_radial_color_std_max   401059 non-null  float64\n",
      " 36  tbp_lv_stdL                   401059 non-null  float64\n",
      " 37  tbp_lv_stdLExt                401059 non-null  float64\n",
      " 38  tbp_lv_symm_2axis             401059 non-null  float64\n",
      " 39  tbp_lv_symm_2axis_angle       401059 non-null  int64  \n",
      " 40  tbp_lv_x                      401059 non-null  float64\n",
      " 41  tbp_lv_y                      401059 non-null  float64\n",
      " 42  tbp_lv_z                      401059 non-null  float64\n",
      " 43  attribution                   401059 non-null  object \n",
      " 44  copyright_license             401059 non-null  object \n",
      " 45  lesion_id                     22058 non-null   object \n",
      " 46  iddx_full                     401059 non-null  object \n",
      " 47  iddx_1                        401059 non-null  object \n",
      " 48  iddx_2                        1068 non-null    object \n",
      " 49  iddx_3                        1065 non-null    object \n",
      " 50  iddx_4                        551 non-null     object \n",
      " 51  iddx_5                        1 non-null       object \n",
      " 52  mel_mitotic_index             53 non-null      object \n",
      " 53  mel_thick_mm                  63 non-null      float64\n",
      " 54  tbp_lv_dnn_lesion_confidence  401059 non-null  float64\n",
      "dtypes: float64(35), int64(2), object(18)\n",
      "memory usage: 168.3+ MB\n"
     ]
    }
   ],
   "source": [
    "train_metadata = pd.read_csv(os.path.join(current_dir,'train-metadata.csv'),low_memory=False)\n",
    "train_metadata.info()"
   ]
  },
  {
   "cell_type": "code",
   "execution_count": 12,
   "id": "bae93d0a",
   "metadata": {
    "execution": {
     "iopub.execute_input": "2025-03-13T00:19:48.292439Z",
     "iopub.status.busy": "2025-03-13T00:19:48.291996Z",
     "iopub.status.idle": "2025-03-13T00:19:48.318582Z",
     "shell.execute_reply": "2025-03-13T00:19:48.316823Z",
     "shell.execute_reply.started": "2025-03-13T00:19:48.292410Z"
    },
    "papermill": {
     "duration": 0.03638,
     "end_time": "2025-02-24T12:18:45.596378",
     "exception": false,
     "start_time": "2025-02-24T12:18:45.559998",
     "status": "completed"
    },
    "tags": [],
    "trusted": true
   },
   "outputs": [
    {
     "name": "stderr",
     "output_type": "stream",
     "text": [
      "/usr/local/lib/python3.10/dist-packages/pandas/io/formats/format.py:1458: RuntimeWarning: invalid value encountered in greater\n",
      "  has_large_values = (abs_vals > 1e6).any()\n",
      "/usr/local/lib/python3.10/dist-packages/pandas/io/formats/format.py:1459: RuntimeWarning: invalid value encountered in less\n",
      "  has_small_values = ((abs_vals < 10 ** (-self.digits)) & (abs_vals > 0)).any()\n",
      "/usr/local/lib/python3.10/dist-packages/pandas/io/formats/format.py:1459: RuntimeWarning: invalid value encountered in greater\n",
      "  has_small_values = ((abs_vals < 10 ** (-self.digits)) & (abs_vals > 0)).any()\n",
      "/usr/local/lib/python3.10/dist-packages/pandas/io/formats/format.py:1458: RuntimeWarning: invalid value encountered in greater\n",
      "  has_large_values = (abs_vals > 1e6).any()\n",
      "/usr/local/lib/python3.10/dist-packages/pandas/io/formats/format.py:1459: RuntimeWarning: invalid value encountered in less\n",
      "  has_small_values = ((abs_vals < 10 ** (-self.digits)) & (abs_vals > 0)).any()\n",
      "/usr/local/lib/python3.10/dist-packages/pandas/io/formats/format.py:1459: RuntimeWarning: invalid value encountered in greater\n",
      "  has_small_values = ((abs_vals < 10 ** (-self.digits)) & (abs_vals > 0)).any()\n"
     ]
    },
    {
     "data": {
      "text/html": [
       "<div>\n",
       "<style scoped>\n",
       "    .dataframe tbody tr th:only-of-type {\n",
       "        vertical-align: middle;\n",
       "    }\n",
       "\n",
       "    .dataframe tbody tr th {\n",
       "        vertical-align: top;\n",
       "    }\n",
       "\n",
       "    .dataframe thead th {\n",
       "        text-align: right;\n",
       "    }\n",
       "</style>\n",
       "<table border=\"1\" class=\"dataframe\">\n",
       "  <thead>\n",
       "    <tr style=\"text-align: right;\">\n",
       "      <th></th>\n",
       "      <th>isic_id</th>\n",
       "      <th>target</th>\n",
       "      <th>patient_id</th>\n",
       "      <th>age_approx</th>\n",
       "      <th>sex</th>\n",
       "      <th>anatom_site_general</th>\n",
       "      <th>clin_size_long_diam_mm</th>\n",
       "      <th>image_type</th>\n",
       "      <th>tbp_tile_type</th>\n",
       "      <th>tbp_lv_A</th>\n",
       "      <th>...</th>\n",
       "      <th>lesion_id</th>\n",
       "      <th>iddx_full</th>\n",
       "      <th>iddx_1</th>\n",
       "      <th>iddx_2</th>\n",
       "      <th>iddx_3</th>\n",
       "      <th>iddx_4</th>\n",
       "      <th>iddx_5</th>\n",
       "      <th>mel_mitotic_index</th>\n",
       "      <th>mel_thick_mm</th>\n",
       "      <th>tbp_lv_dnn_lesion_confidence</th>\n",
       "    </tr>\n",
       "  </thead>\n",
       "  <tbody>\n",
       "    <tr>\n",
       "      <th>0</th>\n",
       "      <td>ISIC_0015670</td>\n",
       "      <td>0</td>\n",
       "      <td>IP_1235828</td>\n",
       "      <td>60.0</td>\n",
       "      <td>male</td>\n",
       "      <td>lower extremity</td>\n",
       "      <td>3.04</td>\n",
       "      <td>TBP tile: close-up</td>\n",
       "      <td>3D: white</td>\n",
       "      <td>20.244422</td>\n",
       "      <td>...</td>\n",
       "      <td>NaN</td>\n",
       "      <td>Benign</td>\n",
       "      <td>Benign</td>\n",
       "      <td>NaN</td>\n",
       "      <td>NaN</td>\n",
       "      <td>NaN</td>\n",
       "      <td>NaN</td>\n",
       "      <td>NaN</td>\n",
       "      <td>NaN</td>\n",
       "      <td>97.517282</td>\n",
       "    </tr>\n",
       "    <tr>\n",
       "      <th>1</th>\n",
       "      <td>ISIC_0015845</td>\n",
       "      <td>0</td>\n",
       "      <td>IP_8170065</td>\n",
       "      <td>60.0</td>\n",
       "      <td>male</td>\n",
       "      <td>head/neck</td>\n",
       "      <td>1.10</td>\n",
       "      <td>TBP tile: close-up</td>\n",
       "      <td>3D: white</td>\n",
       "      <td>31.712570</td>\n",
       "      <td>...</td>\n",
       "      <td>IL_6727506</td>\n",
       "      <td>Benign</td>\n",
       "      <td>Benign</td>\n",
       "      <td>NaN</td>\n",
       "      <td>NaN</td>\n",
       "      <td>NaN</td>\n",
       "      <td>NaN</td>\n",
       "      <td>NaN</td>\n",
       "      <td>NaN</td>\n",
       "      <td>3.141455</td>\n",
       "    </tr>\n",
       "    <tr>\n",
       "      <th>2</th>\n",
       "      <td>ISIC_0015864</td>\n",
       "      <td>0</td>\n",
       "      <td>IP_6724798</td>\n",
       "      <td>60.0</td>\n",
       "      <td>male</td>\n",
       "      <td>posterior torso</td>\n",
       "      <td>3.40</td>\n",
       "      <td>TBP tile: close-up</td>\n",
       "      <td>3D: XP</td>\n",
       "      <td>22.575830</td>\n",
       "      <td>...</td>\n",
       "      <td>NaN</td>\n",
       "      <td>Benign</td>\n",
       "      <td>Benign</td>\n",
       "      <td>NaN</td>\n",
       "      <td>NaN</td>\n",
       "      <td>NaN</td>\n",
       "      <td>NaN</td>\n",
       "      <td>NaN</td>\n",
       "      <td>NaN</td>\n",
       "      <td>99.804040</td>\n",
       "    </tr>\n",
       "    <tr>\n",
       "      <th>3</th>\n",
       "      <td>ISIC_0015902</td>\n",
       "      <td>0</td>\n",
       "      <td>IP_4111386</td>\n",
       "      <td>65.0</td>\n",
       "      <td>male</td>\n",
       "      <td>anterior torso</td>\n",
       "      <td>3.22</td>\n",
       "      <td>TBP tile: close-up</td>\n",
       "      <td>3D: XP</td>\n",
       "      <td>14.242329</td>\n",
       "      <td>...</td>\n",
       "      <td>NaN</td>\n",
       "      <td>Benign</td>\n",
       "      <td>Benign</td>\n",
       "      <td>NaN</td>\n",
       "      <td>NaN</td>\n",
       "      <td>NaN</td>\n",
       "      <td>NaN</td>\n",
       "      <td>NaN</td>\n",
       "      <td>NaN</td>\n",
       "      <td>99.989998</td>\n",
       "    </tr>\n",
       "    <tr>\n",
       "      <th>4</th>\n",
       "      <td>ISIC_0024200</td>\n",
       "      <td>0</td>\n",
       "      <td>IP_8313778</td>\n",
       "      <td>55.0</td>\n",
       "      <td>male</td>\n",
       "      <td>anterior torso</td>\n",
       "      <td>2.73</td>\n",
       "      <td>TBP tile: close-up</td>\n",
       "      <td>3D: white</td>\n",
       "      <td>24.725520</td>\n",
       "      <td>...</td>\n",
       "      <td>NaN</td>\n",
       "      <td>Benign</td>\n",
       "      <td>Benign</td>\n",
       "      <td>NaN</td>\n",
       "      <td>NaN</td>\n",
       "      <td>NaN</td>\n",
       "      <td>NaN</td>\n",
       "      <td>NaN</td>\n",
       "      <td>NaN</td>\n",
       "      <td>70.442510</td>\n",
       "    </tr>\n",
       "  </tbody>\n",
       "</table>\n",
       "<p>5 rows × 55 columns</p>\n",
       "</div>"
      ],
      "text/plain": [
       "        isic_id  target  patient_id  age_approx   sex anatom_site_general  \\\n",
       "0  ISIC_0015670       0  IP_1235828        60.0  male     lower extremity   \n",
       "1  ISIC_0015845       0  IP_8170065        60.0  male           head/neck   \n",
       "2  ISIC_0015864       0  IP_6724798        60.0  male     posterior torso   \n",
       "3  ISIC_0015902       0  IP_4111386        65.0  male      anterior torso   \n",
       "4  ISIC_0024200       0  IP_8313778        55.0  male      anterior torso   \n",
       "\n",
       "   clin_size_long_diam_mm          image_type tbp_tile_type   tbp_lv_A  ...  \\\n",
       "0                    3.04  TBP tile: close-up     3D: white  20.244422  ...   \n",
       "1                    1.10  TBP tile: close-up     3D: white  31.712570  ...   \n",
       "2                    3.40  TBP tile: close-up        3D: XP  22.575830  ...   \n",
       "3                    3.22  TBP tile: close-up        3D: XP  14.242329  ...   \n",
       "4                    2.73  TBP tile: close-up     3D: white  24.725520  ...   \n",
       "\n",
       "    lesion_id  iddx_full  iddx_1  iddx_2  iddx_3  iddx_4  iddx_5  \\\n",
       "0         NaN     Benign  Benign     NaN     NaN     NaN     NaN   \n",
       "1  IL_6727506     Benign  Benign     NaN     NaN     NaN     NaN   \n",
       "2         NaN     Benign  Benign     NaN     NaN     NaN     NaN   \n",
       "3         NaN     Benign  Benign     NaN     NaN     NaN     NaN   \n",
       "4         NaN     Benign  Benign     NaN     NaN     NaN     NaN   \n",
       "\n",
       "   mel_mitotic_index  mel_thick_mm  tbp_lv_dnn_lesion_confidence  \n",
       "0                NaN           NaN                     97.517282  \n",
       "1                NaN           NaN                      3.141455  \n",
       "2                NaN           NaN                     99.804040  \n",
       "3                NaN           NaN                     99.989998  \n",
       "4                NaN           NaN                     70.442510  \n",
       "\n",
       "[5 rows x 55 columns]"
      ]
     },
     "execution_count": 12,
     "metadata": {},
     "output_type": "execute_result"
    }
   ],
   "source": [
    "train_metadata.head()"
   ]
  },
  {
   "cell_type": "code",
   "execution_count": null,
   "id": "b0fc3904",
   "metadata": {
    "execution": {
     "iopub.execute_input": "2025-03-13T00:20:03.405743Z",
     "iopub.status.busy": "2025-03-13T00:20:03.405305Z",
     "iopub.status.idle": "2025-03-13T00:20:03.429590Z",
     "shell.execute_reply": "2025-03-13T00:20:03.428248Z",
     "shell.execute_reply.started": "2025-03-13T00:20:03.405712Z"
    },
    "papermill": {
     "duration": 0.032994,
     "end_time": "2025-02-24T12:18:45.639354",
     "exception": false,
     "start_time": "2025-02-24T12:18:45.606360",
     "status": "completed"
    },
    "tags": [],
    "trusted": true
   },
   "outputs": [
    {
     "name": "stdout",
     "output_type": "stream",
     "text": [
      "<class 'pandas.core.frame.DataFrame'>\n",
      "RangeIndex: 3 entries, 0 to 2\n",
      "Data columns (total 44 columns):\n",
      " #   Column                       Non-Null Count  Dtype  \n",
      "---  ------                       --------------  -----  \n",
      " 0   isic_id                      3 non-null      object \n",
      " 1   patient_id                   3 non-null      object \n",
      " 2   age_approx                   3 non-null      float64\n",
      " 3   sex                          3 non-null      object \n",
      " 4   anatom_site_general          3 non-null      object \n",
      " 5   clin_size_long_diam_mm       3 non-null      float64\n",
      " 6   image_type                   3 non-null      object \n",
      " 7   tbp_tile_type                3 non-null      object \n",
      " 8   tbp_lv_A                     3 non-null      float64\n",
      " 9   tbp_lv_Aext                  3 non-null      float64\n",
      " 10  tbp_lv_B                     3 non-null      float64\n",
      " 11  tbp_lv_Bext                  3 non-null      float64\n",
      " 12  tbp_lv_C                     3 non-null      float64\n",
      " 13  tbp_lv_Cext                  3 non-null      float64\n",
      " 14  tbp_lv_H                     3 non-null      float64\n",
      " 15  tbp_lv_Hext                  3 non-null      float64\n",
      " 16  tbp_lv_L                     3 non-null      float64\n",
      " 17  tbp_lv_Lext                  3 non-null      float64\n",
      " 18  tbp_lv_areaMM2               3 non-null      float64\n",
      " 19  tbp_lv_area_perim_ratio      3 non-null      float64\n",
      " 20  tbp_lv_color_std_mean        3 non-null      float64\n",
      " 21  tbp_lv_deltaA                3 non-null      float64\n",
      " 22  tbp_lv_deltaB                3 non-null      float64\n",
      " 23  tbp_lv_deltaL                3 non-null      float64\n",
      " 24  tbp_lv_deltaLB               3 non-null      float64\n",
      " 25  tbp_lv_deltaLBnorm           3 non-null      float64\n",
      " 26  tbp_lv_eccentricity          3 non-null      float64\n",
      " 27  tbp_lv_location              3 non-null      object \n",
      " 28  tbp_lv_location_simple       3 non-null      object \n",
      " 29  tbp_lv_minorAxisMM           3 non-null      float64\n",
      " 30  tbp_lv_nevi_confidence       3 non-null      float64\n",
      " 31  tbp_lv_norm_border           3 non-null      float64\n",
      " 32  tbp_lv_norm_color            3 non-null      float64\n",
      " 33  tbp_lv_perimeterMM           3 non-null      float64\n",
      " 34  tbp_lv_radial_color_std_max  3 non-null      float64\n",
      " 35  tbp_lv_stdL                  3 non-null      float64\n",
      " 36  tbp_lv_stdLExt               3 non-null      float64\n",
      " 37  tbp_lv_symm_2axis            3 non-null      float64\n",
      " 38  tbp_lv_symm_2axis_angle      3 non-null      int64  \n",
      " 39  tbp_lv_x                     3 non-null      float64\n",
      " 40  tbp_lv_y                     3 non-null      float64\n",
      " 41  tbp_lv_z                     3 non-null      float64\n",
      " 42  attribution                  3 non-null      object \n",
      " 43  copyright_license            3 non-null      object \n",
      "dtypes: float64(33), int64(1), object(10)\n",
      "memory usage: 1.2+ KB\n"
     ]
    }
   ],
   "source": [
    "test_metadata = pd.read_csv(os.path.join(current_dir,'test-metadata.csv'),low_memory=False)\n",
    "test_metadata.info()"
   ]
  },
  {
   "cell_type": "code",
   "execution_count": 14,
   "id": "e2315b7d",
   "metadata": {
    "execution": {
     "iopub.execute_input": "2025-03-13T00:20:06.879828Z",
     "iopub.status.busy": "2025-03-13T00:20:06.879350Z",
     "iopub.status.idle": "2025-03-13T00:20:06.904614Z",
     "shell.execute_reply": "2025-03-13T00:20:06.903234Z",
     "shell.execute_reply.started": "2025-03-13T00:20:06.879797Z"
    },
    "papermill": {
     "duration": 0.033789,
     "end_time": "2025-02-24T12:18:45.682973",
     "exception": false,
     "start_time": "2025-02-24T12:18:45.649184",
     "status": "completed"
    },
    "tags": [],
    "trusted": true
   },
   "outputs": [
    {
     "data": {
      "text/html": [
       "<div>\n",
       "<style scoped>\n",
       "    .dataframe tbody tr th:only-of-type {\n",
       "        vertical-align: middle;\n",
       "    }\n",
       "\n",
       "    .dataframe tbody tr th {\n",
       "        vertical-align: top;\n",
       "    }\n",
       "\n",
       "    .dataframe thead th {\n",
       "        text-align: right;\n",
       "    }\n",
       "</style>\n",
       "<table border=\"1\" class=\"dataframe\">\n",
       "  <thead>\n",
       "    <tr style=\"text-align: right;\">\n",
       "      <th></th>\n",
       "      <th>isic_id</th>\n",
       "      <th>patient_id</th>\n",
       "      <th>age_approx</th>\n",
       "      <th>sex</th>\n",
       "      <th>anatom_site_general</th>\n",
       "      <th>clin_size_long_diam_mm</th>\n",
       "      <th>image_type</th>\n",
       "      <th>tbp_tile_type</th>\n",
       "      <th>tbp_lv_A</th>\n",
       "      <th>tbp_lv_Aext</th>\n",
       "      <th>...</th>\n",
       "      <th>tbp_lv_radial_color_std_max</th>\n",
       "      <th>tbp_lv_stdL</th>\n",
       "      <th>tbp_lv_stdLExt</th>\n",
       "      <th>tbp_lv_symm_2axis</th>\n",
       "      <th>tbp_lv_symm_2axis_angle</th>\n",
       "      <th>tbp_lv_x</th>\n",
       "      <th>tbp_lv_y</th>\n",
       "      <th>tbp_lv_z</th>\n",
       "      <th>attribution</th>\n",
       "      <th>copyright_license</th>\n",
       "    </tr>\n",
       "  </thead>\n",
       "  <tbody>\n",
       "    <tr>\n",
       "      <th>0</th>\n",
       "      <td>ISIC_0015657</td>\n",
       "      <td>IP_6074337</td>\n",
       "      <td>45.0</td>\n",
       "      <td>male</td>\n",
       "      <td>posterior torso</td>\n",
       "      <td>2.70</td>\n",
       "      <td>TBP tile: close-up</td>\n",
       "      <td>3D: XP</td>\n",
       "      <td>22.80433</td>\n",
       "      <td>20.007270</td>\n",
       "      <td>...</td>\n",
       "      <td>0.304827</td>\n",
       "      <td>1.281532</td>\n",
       "      <td>2.299935</td>\n",
       "      <td>0.479339</td>\n",
       "      <td>20</td>\n",
       "      <td>-155.06510</td>\n",
       "      <td>1511.222000</td>\n",
       "      <td>113.980100</td>\n",
       "      <td>Memorial Sloan Kettering Cancer Center</td>\n",
       "      <td>CC-BY</td>\n",
       "    </tr>\n",
       "    <tr>\n",
       "      <th>1</th>\n",
       "      <td>ISIC_0015729</td>\n",
       "      <td>IP_1664139</td>\n",
       "      <td>35.0</td>\n",
       "      <td>female</td>\n",
       "      <td>lower extremity</td>\n",
       "      <td>2.52</td>\n",
       "      <td>TBP tile: close-up</td>\n",
       "      <td>3D: XP</td>\n",
       "      <td>16.64867</td>\n",
       "      <td>9.657964</td>\n",
       "      <td>...</td>\n",
       "      <td>0.000000</td>\n",
       "      <td>1.271940</td>\n",
       "      <td>2.011223</td>\n",
       "      <td>0.426230</td>\n",
       "      <td>25</td>\n",
       "      <td>-112.36924</td>\n",
       "      <td>629.535889</td>\n",
       "      <td>-15.019287</td>\n",
       "      <td>Frazer Institute, The University of Queensland...</td>\n",
       "      <td>CC-BY</td>\n",
       "    </tr>\n",
       "    <tr>\n",
       "      <th>2</th>\n",
       "      <td>ISIC_0015740</td>\n",
       "      <td>IP_7142616</td>\n",
       "      <td>65.0</td>\n",
       "      <td>male</td>\n",
       "      <td>posterior torso</td>\n",
       "      <td>3.16</td>\n",
       "      <td>TBP tile: close-up</td>\n",
       "      <td>3D: XP</td>\n",
       "      <td>24.25384</td>\n",
       "      <td>19.937380</td>\n",
       "      <td>...</td>\n",
       "      <td>0.230742</td>\n",
       "      <td>1.080308</td>\n",
       "      <td>2.705857</td>\n",
       "      <td>0.366071</td>\n",
       "      <td>110</td>\n",
       "      <td>-84.29282</td>\n",
       "      <td>1303.978000</td>\n",
       "      <td>-28.576050</td>\n",
       "      <td>FNQH Cairns</td>\n",
       "      <td>CC-BY</td>\n",
       "    </tr>\n",
       "  </tbody>\n",
       "</table>\n",
       "<p>3 rows × 44 columns</p>\n",
       "</div>"
      ],
      "text/plain": [
       "        isic_id  patient_id  age_approx     sex anatom_site_general  \\\n",
       "0  ISIC_0015657  IP_6074337        45.0    male     posterior torso   \n",
       "1  ISIC_0015729  IP_1664139        35.0  female     lower extremity   \n",
       "2  ISIC_0015740  IP_7142616        65.0    male     posterior torso   \n",
       "\n",
       "   clin_size_long_diam_mm          image_type tbp_tile_type  tbp_lv_A  \\\n",
       "0                    2.70  TBP tile: close-up        3D: XP  22.80433   \n",
       "1                    2.52  TBP tile: close-up        3D: XP  16.64867   \n",
       "2                    3.16  TBP tile: close-up        3D: XP  24.25384   \n",
       "\n",
       "   tbp_lv_Aext  ...  tbp_lv_radial_color_std_max  tbp_lv_stdL  tbp_lv_stdLExt  \\\n",
       "0    20.007270  ...                     0.304827     1.281532        2.299935   \n",
       "1     9.657964  ...                     0.000000     1.271940        2.011223   \n",
       "2    19.937380  ...                     0.230742     1.080308        2.705857   \n",
       "\n",
       "   tbp_lv_symm_2axis  tbp_lv_symm_2axis_angle   tbp_lv_x     tbp_lv_y  \\\n",
       "0           0.479339                       20 -155.06510  1511.222000   \n",
       "1           0.426230                       25 -112.36924   629.535889   \n",
       "2           0.366071                      110  -84.29282  1303.978000   \n",
       "\n",
       "     tbp_lv_z                                        attribution  \\\n",
       "0  113.980100             Memorial Sloan Kettering Cancer Center   \n",
       "1  -15.019287  Frazer Institute, The University of Queensland...   \n",
       "2  -28.576050                                        FNQH Cairns   \n",
       "\n",
       "   copyright_license  \n",
       "0              CC-BY  \n",
       "1              CC-BY  \n",
       "2              CC-BY  \n",
       "\n",
       "[3 rows x 44 columns]"
      ]
     },
     "execution_count": 14,
     "metadata": {},
     "output_type": "execute_result"
    }
   ],
   "source": [
    "test_metadata.head()"
   ]
  },
  {
   "cell_type": "markdown",
   "id": "2cdb419f",
   "metadata": {
    "papermill": {
     "duration": 0.009717,
     "end_time": "2025-02-24T12:18:45.703320",
     "exception": false,
     "start_time": "2025-02-24T12:18:45.693603",
     "status": "completed"
    },
    "tags": []
   },
   "source": [
    "#### Load Image Byte String\n",
    "\n",
    "In this competition, images are provided as byte strings. The following code snippet demonstrates how to load these images into memory. One might wonder why the provided jpeg images aren't being used in the /train-image folder for training. This is because testing images are not provided as JPEG images; instead, they are provided as byte strings. Why use byte strings? They occupy significantly less memory compared to np.array representations.\n"
   ]
  },
  {
   "cell_type": "code",
   "execution_count": 16,
   "id": "4d621863",
   "metadata": {
    "execution": {
     "iopub.execute_input": "2025-03-13T00:20:14.974750Z",
     "iopub.status.busy": "2025-03-13T00:20:14.974311Z",
     "iopub.status.idle": "2025-03-13T00:20:14.984669Z",
     "shell.execute_reply": "2025-03-13T00:20:14.983432Z",
     "shell.execute_reply.started": "2025-03-13T00:20:14.974718Z"
    },
    "papermill": {
     "duration": 0.033938,
     "end_time": "2025-02-24T12:18:45.747926",
     "exception": false,
     "start_time": "2025-02-24T12:18:45.713988",
     "status": "completed"
    },
    "tags": [],
    "trusted": true
   },
   "outputs": [],
   "source": [
    "# image sample visualization\n",
    "training_validation_hdf5 = h5py.File(f\"{current_dir}/train-image.hdf5\", 'r')\n",
    "testing_hdf5 = h5py.File(f\"{current_dir}/test-image.hdf5\", 'r')"
   ]
  },
  {
   "cell_type": "code",
   "execution_count": 17,
   "id": "8b23e101",
   "metadata": {
    "execution": {
     "iopub.execute_input": "2025-03-13T00:20:17.054957Z",
     "iopub.status.busy": "2025-03-13T00:20:17.054563Z",
     "iopub.status.idle": "2025-03-13T00:20:17.275958Z",
     "shell.execute_reply": "2025-03-13T00:20:17.274794Z",
     "shell.execute_reply.started": "2025-03-13T00:20:17.054921Z"
    },
    "papermill": {
     "duration": 0.207854,
     "end_time": "2025-02-24T12:18:45.966353",
     "exception": false,
     "start_time": "2025-02-24T12:18:45.758499",
     "status": "completed"
    },
    "tags": [],
    "trusted": true
   },
   "outputs": [
    {
     "name": "stdout",
     "output_type": "stream",
     "text": [
      "Image ISIC_8214302:\n",
      "Shape:(99, 99, 3)\n"
     ]
    },
    {
     "data": {
      "image/jpeg": "[encoded data removed]",
      "image/png": "[encoded data removed]",
      "text/plain": [
       "<PIL.Image.Image image mode=RGB size=99x99>"
      ]
     },
     "metadata": {},
     "output_type": "display_data"
    },
    {
     "name": "stdout",
     "output_type": "stream",
     "text": [
      "Image ISIC_2335269:\n",
      "Shape:(119, 119, 3)\n"
     ]
    },
    {
     "data": {
      "image/jpeg": "[encoded data removed]",
      "image/png": "[encoded data removed]",
      "text/plain": [
       "<PIL.Image.Image image mode=RGB size=119x119>"
      ]
     },
     "metadata": {},
     "output_type": "display_data"
    }
   ],
   "source": [
    "# sample randomly two images from the train dataset\n",
    "img_sample = train_metadata['isic_id'].sample(n=2).to_list()\n",
    "\n",
    "# load the image from byte arrays, \n",
    "byte_str = [training_validation_hdf5[isic_id][()] for isic_id in img_sample]\n",
    "\n",
    "# convert byte str to numpy array\n",
    "img_arr = [np.frombuffer(byte, np.uint8) for byte in byte_str]\n",
    "\n",
    "# convert cv2 image\n",
    "img_cv2 = [cv2.imdecode(nparr, cv2.IMREAD_COLOR) for nparr in img_arr] \n",
    "for ind,val in enumerate(img_cv2):\n",
    "    print(f\"Image {img_sample[ind]}:\")\n",
    "    print(f\"Shape:{val.shape}\")\n",
    "    cv2_imshow(val)"
   ]
  },
  {
   "cell_type": "code",
   "execution_count": 18,
   "id": "c63dfa20",
   "metadata": {
    "execution": {
     "iopub.execute_input": "2025-03-13T00:20:20.131125Z",
     "iopub.status.busy": "2025-03-13T00:20:20.130612Z",
     "iopub.status.idle": "2025-03-13T00:20:20.167099Z",
     "shell.execute_reply": "2025-03-13T00:20:20.165594Z",
     "shell.execute_reply.started": "2025-03-13T00:20:20.131086Z"
    },
    "papermill": {
     "duration": 0.043511,
     "end_time": "2025-02-24T12:18:46.022839",
     "exception": false,
     "start_time": "2025-02-24T12:18:45.979328",
     "status": "completed"
    },
    "tags": [],
    "trusted": true
   },
   "outputs": [
    {
     "name": "stdout",
     "output_type": "stream",
     "text": [
      "Image ISIC_0015729:\n",
      "Shape:(125, 125, 3)\n"
     ]
    },
    {
     "data": {
      "image/jpeg": "[encoded data removed]",
      "image/png": "[encoded data removed]",
      "text/plain": [
       "<PIL.Image.Image image mode=RGB size=125x125>"
      ]
     },
     "metadata": {},
     "output_type": "display_data"
    },
    {
     "name": "stdout",
     "output_type": "stream",
     "text": [
      "Image ISIC_0015657:\n",
      "Shape:(141, 141, 3)\n"
     ]
    },
    {
     "data": {
      "image/jpeg": "[encoded data removed]",
      "image/png": "[encoded data removed]",
      "text/plain": [
       "<PIL.Image.Image image mode=RGB size=141x141>"
      ]
     },
     "metadata": {},
     "output_type": "display_data"
    },
    {
     "name": "stdout",
     "output_type": "stream",
     "text": [
      "Image ISIC_0015740:\n",
      "Shape:(119, 119, 3)\n"
     ]
    },
    {
     "data": {
      "image/jpeg": "[encoded data removed]",
      "image/png": "[encoded data removed]",
      "text/plain": [
       "<PIL.Image.Image image mode=RGB size=119x119>"
      ]
     },
     "metadata": {},
     "output_type": "display_data"
    }
   ],
   "source": [
    "# sample randomly two images from the train dataset\n",
    "img_sample = test_metadata['isic_id'].sample(n=3).to_list()\n",
    "\n",
    "# load the image from byte arrays, \n",
    "byte_str = [testing_hdf5[isic_id][()] for isic_id in img_sample]\n",
    "\n",
    "# convert byte str to numpy array\n",
    "img_arr = [np.frombuffer(byte, np.uint8) for byte in byte_str]\n",
    "\n",
    "# convert cv2 image\n",
    "img_cv2 = [cv2.imdecode(nparr, cv2.IMREAD_COLOR) for nparr in img_arr] \n",
    "for ind,val in enumerate(img_cv2):\n",
    "    print(f\"Image {img_sample[ind]}:\")\n",
    "    print(f\"Shape:{val.shape}\")\n",
    "    cv2_imshow(val)"
   ]
  },
  {
   "cell_type": "markdown",
   "id": "2f15b668",
   "metadata": {
    "papermill": {
     "duration": 0.014522,
     "end_time": "2025-02-24T12:18:46.052568",
     "exception": false,
     "start_time": "2025-02-24T12:18:46.038046",
     "status": "completed"
    },
    "tags": []
   },
   "source": [
    "## Preprocessing"
   ]
  },
  {
   "cell_type": "code",
   "execution_count": 20,
   "id": "27c5d404",
   "metadata": {
    "execution": {
     "iopub.execute_input": "2025-03-13T00:21:03.533116Z",
     "iopub.status.busy": "2025-03-13T00:21:03.532657Z",
     "iopub.status.idle": "2025-03-13T00:21:03.546999Z",
     "shell.execute_reply": "2025-03-13T00:21:03.545487Z",
     "shell.execute_reply.started": "2025-03-13T00:21:03.533086Z"
    },
    "papermill": {
     "duration": 0.031935,
     "end_time": "2025-02-24T12:18:46.099211",
     "exception": false,
     "start_time": "2025-02-24T12:18:46.067276",
     "status": "completed"
    },
    "tags": [],
    "trusted": true
   },
   "outputs": [],
   "source": [
    "class DataPreprocessor:\n",
    "    def __init__(self):\n",
    "        self.preprocessor = None\n",
    "        self.train_columns = None\n",
    "\n",
    "    def fit_transform(self, df):\n",
    "        \"\"\"Preprocess training data and store transformations.\"\"\"\n",
    "        df = df.copy()\n",
    "        df = self._drop_irrelevant_columns(df)\n",
    "        df = self._drop_train_only_columns(df)\n",
    "        categorical_cols, numerical_cols = self._identify_column_types(df)\n",
    "        \n",
    "        # Define preprocessing pipelines\n",
    "        numerical_pipeline = Pipeline([\n",
    "            # (\"imputer\", SimpleImputer(strategy=\"median\")),\n",
    "            (\"imputer\", KNNImputer()),\n",
    "            (\"scaler\", StandardScaler())\n",
    "        ])\n",
    "        \n",
    "        categorical_pipeline = Pipeline([\n",
    "            (\"onehot\", OneHotEncoder(handle_unknown=\"ignore\"))\n",
    "        ])\n",
    "        \n",
    "        self.preprocessor = ColumnTransformer([\n",
    "            (\"num\", numerical_pipeline, numerical_cols),\n",
    "            (\"cat\", categorical_pipeline, categorical_cols)\n",
    "        ])\n",
    "        \n",
    "        transformed_data = self.preprocessor.fit_transform(df)\n",
    "        \n",
    "        cat_feature_names = self.preprocessor.named_transformers_[\"cat\"].named_steps[\"onehot\"].get_feature_names_out(categorical_cols)\n",
    "        all_columns = numerical_cols + list(cat_feature_names)\n",
    "        \n",
    "        df_processed = pd.DataFrame(transformed_data, columns=all_columns)\n",
    "        df_processed[\"isic_id\"] = df[\"isic_id\"].values\n",
    "        df_processed[\"target\"] = df[\"target\"].values\n",
    "        \n",
    "        self.train_columns = df_processed.columns  # Store train columns\n",
    "        return df_processed\n",
    "\n",
    "    def transform(self, df):\n",
    "        \"\"\"Preprocess test data using stored transformations from training.\"\"\"\n",
    "        df = df.copy()\n",
    "        df = self._drop_irrelevant_columns(df)\n",
    "        \n",
    "        transformed_data = self.preprocessor.transform(df)\n",
    "        cat_feature_names = self.preprocessor.named_transformers_[\"cat\"].named_steps[\"onehot\"].get_feature_names_out()\n",
    "        all_columns = self.train_columns[:-2]  # Exclude 'isic_id' and 'target'\n",
    "        \n",
    "        df_processed = pd.DataFrame(transformed_data, columns=all_columns)\n",
    "        df_processed[\"isic_id\"] = df[\"isic_id\"].values\n",
    "        # df_processed[\"target\"] = df[\"target\"].values\n",
    "        \n",
    "        # Align test dataset with train columns\n",
    "        df_processed = self._align_train_test_columns(df_processed)\n",
    "        return df_processed\n",
    "\n",
    "    def _drop_irrelevant_columns(self, df):\n",
    "        \"\"\"Remove unnecessary columns.\"\"\"\n",
    "        return df.drop(columns=['patient_id','image_type', 'tbp_tile_type', 'attribution', 'copyright_license'], errors=\"ignore\")\n",
    "\n",
    "    def _drop_train_only_columns(self,df):\n",
    "        \"\"\"Remove columns that are present only in the train set and not in the test set\"\"\"\n",
    "        drop_train_only_columns = [\n",
    "            'lesion_id', 'iddx_full', 'iddx_1', 'iddx_2', 'iddx_3', 'iddx_4', 'iddx_5',\n",
    "            'mel_mitotic_index', 'mel_thick_mm', 'tbp_lv_dnn_lesion_confidence'\n",
    "            ]\n",
    "        return df.drop(columns=drop_train_only_columns,errors='ignore')\n",
    "        \n",
    "\n",
    "    def _identify_column_types(self, df):\n",
    "        \"\"\"Identify categorical and numerical columns, excluding 'isic_id' and 'target'.\"\"\"\n",
    "        categorical_cols = df.select_dtypes(include=['object']).columns.tolist()\n",
    "        numerical_cols = df.select_dtypes(include=['int64', 'float64']).columns.tolist()\n",
    "        categorical_cols = [col for col in categorical_cols if col != \"isic_id\"]\n",
    "        numerical_cols = [col for col in numerical_cols if col != \"target\"]\n",
    "        return categorical_cols, numerical_cols\n",
    "    \n",
    "    def _align_train_test_columns(self, df):\n",
    "        \"\"\"Ensure test data has the same columns as train data.\"\"\"\n",
    "        train_cols = list(self.train_columns)\n",
    "        train_cols.remove('target')\n",
    "        missing_cols = set(train_cols) - set(df.columns)\n",
    "        for col in missing_cols:\n",
    "            df[col] = 0\n",
    "        return df[train_cols]\n"
   ]
  },
  {
   "cell_type": "code",
   "execution_count": 21,
   "id": "ca887129",
   "metadata": {
    "execution": {
     "iopub.execute_input": "2025-03-13T00:21:08.502057Z",
     "iopub.status.busy": "2025-03-13T00:21:08.501654Z",
     "iopub.status.idle": "2025-03-13T00:21:15.787127Z",
     "shell.execute_reply": "2025-03-13T00:21:15.786082Z",
     "shell.execute_reply.started": "2025-03-13T00:21:08.502026Z"
    },
    "papermill": {
     "duration": 5.856352,
     "end_time": "2025-02-24T12:18:51.970515",
     "exception": false,
     "start_time": "2025-02-24T12:18:46.114163",
     "status": "completed"
    },
    "tags": [],
    "trusted": true
   },
   "outputs": [],
   "source": [
    "train_metadata = pd.read_csv(os.path.join(current_dir, 'train-metadata.csv'), low_memory=False)\n",
    "test_metadata = pd.read_csv(os.path.join(current_dir, 'test-metadata.csv'), low_memory=False)"
   ]
  },
  {
   "cell_type": "code",
   "execution_count": 25,
   "id": "2cf37f7b",
   "metadata": {
    "execution": {
     "iopub.execute_input": "2025-03-13T00:30:25.830470Z",
     "iopub.status.busy": "2025-03-13T00:30:25.829980Z",
     "iopub.status.idle": "2025-03-13T00:32:53.088545Z",
     "shell.execute_reply": "2025-03-13T00:32:53.087222Z",
     "shell.execute_reply.started": "2025-03-13T00:30:25.830427Z"
    },
    "papermill": {
     "duration": 115.218602,
     "end_time": "2025-02-24T12:20:47.204531",
     "exception": false,
     "start_time": "2025-02-24T12:18:51.985929",
     "status": "completed"
    },
    "tags": [],
    "trusted": true
   },
   "outputs": [],
   "source": [
    "data_object = DataPreprocessor()\n",
    "train_metadata_processed = data_object.fit_transform(train_metadata)\n",
    "test_metadata_processed = data_object.transform(test_metadata)"
   ]
  },
  {
   "cell_type": "code",
   "execution_count": 24,
   "id": "936d1c15",
   "metadata": {
    "execution": {
     "iopub.execute_input": "2025-03-13T00:30:21.074803Z",
     "iopub.status.busy": "2025-03-13T00:30:21.074331Z",
     "iopub.status.idle": "2025-03-13T00:30:21.172030Z",
     "shell.execute_reply": "2025-03-13T00:30:21.170917Z",
     "shell.execute_reply.started": "2025-03-13T00:30:21.074760Z"
    },
    "papermill": {
     "duration": 0.102397,
     "end_time": "2025-02-24T12:20:47.322052",
     "exception": false,
     "start_time": "2025-02-24T12:20:47.219655",
     "status": "completed"
    },
    "tags": [],
    "trusted": true
   },
   "outputs": [],
   "source": [
    "X_train = train_metadata_processed.drop(columns=['target'])\n",
    "y_train = train_metadata_processed['target']\n",
    "X_test = test_metadata_processed.copy()\n"
   ]
  },
  {
   "cell_type": "markdown",
   "id": "614f5cdc",
   "metadata": {
    "papermill": {
     "duration": 0.015982,
     "end_time": "2025-02-24T12:20:47.353148",
     "exception": false,
     "start_time": "2025-02-24T12:20:47.337166",
     "status": "completed"
    },
    "tags": []
   },
   "source": [
    "## handling class imbalance"
   ]
  },
  {
   "cell_type": "code",
   "execution_count": 26,
   "id": "1d0a5c22",
   "metadata": {
    "execution": {
     "iopub.execute_input": "2025-03-13T00:34:01.485199Z",
     "iopub.status.busy": "2025-03-13T00:34:01.484779Z",
     "iopub.status.idle": "2025-03-13T00:34:01.491859Z",
     "shell.execute_reply": "2025-03-13T00:34:01.490433Z",
     "shell.execute_reply.started": "2025-03-13T00:34:01.485171Z"
    },
    "papermill": {
     "duration": 0.023517,
     "end_time": "2025-02-24T12:20:47.391607",
     "exception": false,
     "start_time": "2025-02-24T12:20:47.368090",
     "status": "completed"
    },
    "tags": [],
    "trusted": true
   },
   "outputs": [],
   "source": [
    "def resampler_data(X, Y):\n",
    "    \n",
    "    # Apply undersampling only on numerical data\n",
    "    resampler = RandomUnderSampler(sampling_strategy=0.1,)\n",
    "    X_resampled, Y_resampled = resampler.fit_resample(X,Y)\n",
    "    \n",
    "    # now apply over sampling for the minorit class\n",
    "    resampler = RandomOverSampler(sampling_strategy=0.3)\n",
    "    X_resampled, Y_resampled = resampler.fit_resample(X_resampled, Y_resampled)\n",
    "\n",
    "    print(\"X_final shape;\",X_resampled.shape)\n",
    "    print(\"Y_final shape:\",Y_resampled.shape)\n",
    "    \n",
    "    return X_resampled, Y_resampled"
   ]
  },
  {
   "cell_type": "code",
   "execution_count": 27,
   "id": "58018fbd",
   "metadata": {
    "execution": {
     "iopub.execute_input": "2025-03-13T00:34:05.094164Z",
     "iopub.status.busy": "2025-03-13T00:34:05.093708Z",
     "iopub.status.idle": "2025-03-13T00:34:05.298393Z",
     "shell.execute_reply": "2025-03-13T00:34:05.297089Z",
     "shell.execute_reply.started": "2025-03-13T00:34:05.094133Z"
    },
    "papermill": {
     "duration": 0.169658,
     "end_time": "2025-02-24T12:20:47.576144",
     "exception": false,
     "start_time": "2025-02-24T12:20:47.406486",
     "status": "completed"
    },
    "tags": [],
    "trusted": true
   },
   "outputs": [
    {
     "name": "stdout",
     "output_type": "stream",
     "text": [
      "X_final shape; (5109, 73)\n",
      "Y_final shape: (5109,)\n"
     ]
    }
   ],
   "source": [
    "X_train_final, y_train_final = resampler_data(X_train, y_train)"
   ]
  },
  {
   "cell_type": "markdown",
   "id": "ae25a552",
   "metadata": {
    "papermill": {
     "duration": 0.014351,
     "end_time": "2025-02-24T12:20:47.605726",
     "exception": false,
     "start_time": "2025-02-24T12:20:47.591375",
     "status": "completed"
    },
    "tags": []
   },
   "source": [
    "## metadata only model for submission checking"
   ]
  },
  {
   "cell_type": "code",
   "execution_count": 28,
   "id": "25ac9b8d",
   "metadata": {
    "execution": {
     "iopub.execute_input": "2025-03-13T00:34:07.358023Z",
     "iopub.status.busy": "2025-03-13T00:34:07.357499Z",
     "iopub.status.idle": "2025-03-13T00:34:07.368645Z",
     "shell.execute_reply": "2025-03-13T00:34:07.367041Z",
     "shell.execute_reply.started": "2025-03-13T00:34:07.357980Z"
    },
    "papermill": {
     "duration": 0.02561,
     "end_time": "2025-02-24T12:20:47.646467",
     "exception": false,
     "start_time": "2025-02-24T12:20:47.620857",
     "status": "completed"
    },
    "tags": [],
    "trusted": true
   },
   "outputs": [
    {
     "name": "stdout",
     "output_type": "stream",
     "text": [
      "{0: 1.2999999999999998, 1: 4.333333333333333}\n"
     ]
    }
   ],
   "source": [
    "# Compute class weights\n",
    "class_weights = y_train_final.value_counts(normalize=True).to_dict()\n",
    "class_weights = {k: 1/v for k, v in class_weights.items()}\n",
    "print(class_weights)"
   ]
  },
  {
   "cell_type": "code",
   "execution_count": 29,
   "id": "01b11093",
   "metadata": {
    "execution": {
     "iopub.execute_input": "2025-03-13T00:34:10.194772Z",
     "iopub.status.busy": "2025-03-13T00:34:10.194327Z",
     "iopub.status.idle": "2025-03-13T00:34:10.246999Z",
     "shell.execute_reply": "2025-03-13T00:34:10.246036Z",
     "shell.execute_reply.started": "2025-03-13T00:34:10.194740Z"
    },
    "papermill": {
     "duration": 0.060352,
     "end_time": "2025-02-24T12:20:47.722075",
     "exception": false,
     "start_time": "2025-02-24T12:20:47.661723",
     "status": "completed"
    },
    "tags": [],
    "trusted": true
   },
   "outputs": [],
   "source": [
    "# Convert data to DMatrix for XGBoost\n",
    "dtrain = xgb.DMatrix(X_train_final.drop(columns=['isic_id'],axis=1), label=y_train_final, weight=[class_weights[y] for y in y_train_final])\n",
    "# dval = xgb.DMatrix(X_val.drop(columns=['isic_id'],axis=1), label=y_val)"
   ]
  },
  {
   "cell_type": "code",
   "execution_count": 30,
   "id": "0e22d7da",
   "metadata": {
    "execution": {
     "iopub.execute_input": "2025-03-13T00:34:13.542301Z",
     "iopub.status.busy": "2025-03-13T00:34:13.541861Z",
     "iopub.status.idle": "2025-03-13T00:34:13.548390Z",
     "shell.execute_reply": "2025-03-13T00:34:13.546868Z",
     "shell.execute_reply.started": "2025-03-13T00:34:13.542269Z"
    },
    "papermill": {
     "duration": 0.022255,
     "end_time": "2025-02-24T12:20:47.759866",
     "exception": false,
     "start_time": "2025-02-24T12:20:47.737611",
     "status": "completed"
    },
    "tags": [],
    "trusted": true
   },
   "outputs": [],
   "source": [
    "# Define XGBoost parameters\n",
    "params = {\n",
    "    'objective': 'binary:logistic',\n",
    "    'eval_metric': 'logloss',\n",
    "    'scale_pos_weight': class_weights[1] / class_weights[0],\n",
    "    'max_depth': 10,\n",
    "    'eta': 0.01,\n",
    "    'subsample': 0.9,\n",
    "    'colsample_bytree': 0.9,\n",
    "    'random_state': 63\n",
    "}\n",
    "\n",
    "# # Train the XGBoost classifier with cross-validation\n",
    "# cv_results = xgb.cv(\n",
    "#     params,\n",
    "#     dtrain,\n",
    "#     num_boost_round=10000,\n",
    "#     nfold=5,\n",
    "#     early_stopping_rounds=10,\n",
    "#     metrics='logloss',\n",
    "#     as_pandas=True,\n",
    "#     seed=42\n",
    "# )"
   ]
  },
  {
   "cell_type": "code",
   "execution_count": 32,
   "id": "382c6275",
   "metadata": {
    "execution": {
     "iopub.execute_input": "2025-03-13T00:34:34.391534Z",
     "iopub.status.busy": "2025-03-13T00:34:34.391030Z",
     "iopub.status.idle": "2025-03-13T00:34:34.396541Z",
     "shell.execute_reply": "2025-03-13T00:34:34.395037Z",
     "shell.execute_reply.started": "2025-03-13T00:34:34.391497Z"
    },
    "papermill": {
     "duration": 0.024043,
     "end_time": "2025-02-24T12:20:47.799132",
     "exception": false,
     "start_time": "2025-02-24T12:20:47.775089",
     "status": "completed"
    },
    "tags": [],
    "trusted": true
   },
   "outputs": [],
   "source": [
    "# # View the train set results\n",
    "# print(\"Cross-validation results:\")\n",
    "# print(cv_results)"
   ]
  },
  {
   "cell_type": "code",
   "execution_count": 23,
   "id": "e38ec635",
   "metadata": {
    "execution": {
     "iopub.execute_input": "2025-02-24T12:20:47.830141Z",
     "iopub.status.busy": "2025-02-24T12:20:47.829751Z",
     "iopub.status.idle": "2025-02-24T12:20:47.833562Z",
     "shell.execute_reply": "2025-02-24T12:20:47.832449Z"
    },
    "papermill": {
     "duration": 0.021162,
     "end_time": "2025-02-24T12:20:47.835419",
     "exception": false,
     "start_time": "2025-02-24T12:20:47.814257",
     "status": "completed"
    },
    "tags": []
   },
   "outputs": [],
   "source": [
    "# num_boost_rounds = cv_results['test-logloss-mean'].idxmin()\n",
    "# xgb_model = xgb.train(params, dtrain, num_boost_round=num_boost_rounds)\n",
    "# print(num_boost_rounds)"
   ]
  },
  {
   "cell_type": "code",
   "execution_count": 33,
   "id": "45fd6f56",
   "metadata": {
    "execution": {
     "iopub.execute_input": "2025-03-13T00:34:36.088868Z",
     "iopub.status.busy": "2025-03-13T00:34:36.088408Z",
     "iopub.status.idle": "2025-03-13T00:34:36.102290Z",
     "shell.execute_reply": "2025-03-13T00:34:36.100912Z",
     "shell.execute_reply.started": "2025-03-13T00:34:36.088836Z"
    },
    "papermill": {
     "duration": 0.027226,
     "end_time": "2025-02-24T12:20:47.878124",
     "exception": false,
     "start_time": "2025-02-24T12:20:47.850898",
     "status": "completed"
    },
    "tags": [],
    "trusted": true
   },
   "outputs": [],
   "source": [
    "# light gbm model\n",
    "lgb_matrix = lgb.Dataset(X_train_final.drop(columns=['isic_id'],axis=1), label=y_train_final, weight=[class_weights[y] for y in y_train_final])\n",
    "\n",
    "lgb_params = {\n",
    "    'objective': 'binary',\n",
    "    'metric': 'binary_logloss',\n",
    "    'eta': 0.01,\n",
    "    'num_iterations':10000,\n",
    "    'num_leaves':63,\n",
    "    'random_state': 42,\n",
    "    'verbose':-1\n",
    "}"
   ]
  },
  {
   "cell_type": "code",
   "execution_count": 34,
   "id": "f4287b2a",
   "metadata": {
    "execution": {
     "iopub.execute_input": "2025-03-13T00:34:37.958905Z",
     "iopub.status.busy": "2025-03-13T00:34:37.958480Z",
     "iopub.status.idle": "2025-03-13T00:34:37.963425Z",
     "shell.execute_reply": "2025-03-13T00:34:37.962078Z",
     "shell.execute_reply.started": "2025-03-13T00:34:37.958856Z"
    },
    "papermill": {
     "duration": 0.021229,
     "end_time": "2025-02-24T12:20:47.914294",
     "exception": false,
     "start_time": "2025-02-24T12:20:47.893065",
     "status": "completed"
    },
    "tags": [],
    "trusted": true
   },
   "outputs": [],
   "source": [
    "# lgb_model = lgb.train(lgb_params, lgb_matrix, num_boost_round=1000)"
   ]
  },
  {
   "cell_type": "code",
   "execution_count": 26,
   "id": "f74d3c93",
   "metadata": {
    "execution": {
     "iopub.execute_input": "2025-02-24T12:20:47.945682Z",
     "iopub.status.busy": "2025-02-24T12:20:47.945334Z",
     "iopub.status.idle": "2025-02-24T12:20:47.949159Z",
     "shell.execute_reply": "2025-02-24T12:20:47.948060Z"
    },
    "papermill": {
     "duration": 0.021331,
     "end_time": "2025-02-24T12:20:47.950765",
     "exception": false,
     "start_time": "2025-02-24T12:20:47.929434",
     "status": "completed"
    },
    "tags": []
   },
   "outputs": [],
   "source": [
    "# # CatBoost model\n",
    "# cb_model = cb.CatBoostClassifier(iterations=10000, depth=6, learning_rate=0.01, loss_function='Logloss', random_seed=42)\n",
    "# cb_model.fit(X_train_final.drop(columns=['isic_id'],axis=1), y_train_final, sample_weight=[class_weights[y] for y in y_train_final], verbose=0)\n"
   ]
  },
  {
   "cell_type": "code",
   "execution_count": 35,
   "id": "213a2387",
   "metadata": {
    "execution": {
     "iopub.execute_input": "2025-03-13T00:34:43.403097Z",
     "iopub.status.busy": "2025-03-13T00:34:43.402600Z",
     "iopub.status.idle": "2025-03-13T00:34:43.422192Z",
     "shell.execute_reply": "2025-03-13T00:34:43.420863Z",
     "shell.execute_reply.started": "2025-03-13T00:34:43.403063Z"
    },
    "papermill": {
     "duration": 0.032668,
     "end_time": "2025-02-24T12:20:47.998311",
     "exception": false,
     "start_time": "2025-02-24T12:20:47.965643",
     "status": "completed"
    },
    "tags": [],
    "trusted": true
   },
   "outputs": [],
   "source": [
    "# Predict class probabilities on the test data\n",
    "dtest = xgb.DMatrix(X_test.drop(columns=['isic_id'],axis=1))\n",
    "# y_test_pred_proba = model.predict(dtest)\n",
    "# # Output the predicted probabilities\n",
    "# print(y_test_pred_proba)"
   ]
  },
  {
   "cell_type": "code",
   "execution_count": 36,
   "id": "59b0c0ae",
   "metadata": {
    "execution": {
     "iopub.execute_input": "2025-03-13T00:34:45.994832Z",
     "iopub.status.busy": "2025-03-13T00:34:45.994410Z",
     "iopub.status.idle": "2025-03-13T00:34:46.001242Z",
     "shell.execute_reply": "2025-03-13T00:34:45.999553Z",
     "shell.execute_reply.started": "2025-03-13T00:34:45.994800Z"
    },
    "papermill": {
     "duration": 0.022921,
     "end_time": "2025-02-24T12:20:48.036593",
     "exception": false,
     "start_time": "2025-02-24T12:20:48.013672",
     "status": "completed"
    },
    "tags": [],
    "trusted": true
   },
   "outputs": [],
   "source": [
    "xgb_pred = lambda X: xgb_model.predict(dtest)\n",
    "lgb_pred = lambda X: lgb_model.predict(X_test.drop(columns=['isic_id'],axis=1))\n",
    "cb_pred = lambda X: cb_model.predict_proba(X_test.drop(columns=['isic_id'],axis=1))[:, 1]"
   ]
  },
  {
   "cell_type": "code",
   "execution_count": 29,
   "id": "dc40d9fc",
   "metadata": {
    "execution": {
     "iopub.execute_input": "2025-02-24T12:20:48.068178Z",
     "iopub.status.busy": "2025-02-24T12:20:48.067787Z",
     "iopub.status.idle": "2025-02-24T12:20:48.071681Z",
     "shell.execute_reply": "2025-02-24T12:20:48.070565Z"
    },
    "papermill": {
     "duration": 0.02189,
     "end_time": "2025-02-24T12:20:48.073558",
     "exception": false,
     "start_time": "2025-02-24T12:20:48.051668",
     "status": "completed"
    },
    "tags": []
   },
   "outputs": [],
   "source": [
    "# xgb_pred(dtest)"
   ]
  },
  {
   "cell_type": "code",
   "execution_count": 30,
   "id": "405e055c",
   "metadata": {
    "execution": {
     "iopub.execute_input": "2025-02-24T12:20:48.104587Z",
     "iopub.status.busy": "2025-02-24T12:20:48.104216Z",
     "iopub.status.idle": "2025-02-24T12:20:48.108141Z",
     "shell.execute_reply": "2025-02-24T12:20:48.107145Z"
    },
    "papermill": {
     "duration": 0.021449,
     "end_time": "2025-02-24T12:20:48.109977",
     "exception": false,
     "start_time": "2025-02-24T12:20:48.088528",
     "status": "completed"
    },
    "tags": []
   },
   "outputs": [],
   "source": [
    "# lgb_pred(X_test)"
   ]
  },
  {
   "cell_type": "code",
   "execution_count": 31,
   "id": "855f43e8",
   "metadata": {
    "execution": {
     "iopub.execute_input": "2025-02-24T12:20:48.141949Z",
     "iopub.status.busy": "2025-02-24T12:20:48.141535Z",
     "iopub.status.idle": "2025-02-24T12:20:48.145541Z",
     "shell.execute_reply": "2025-02-24T12:20:48.144452Z"
    },
    "papermill": {
     "duration": 0.021852,
     "end_time": "2025-02-24T12:20:48.147367",
     "exception": false,
     "start_time": "2025-02-24T12:20:48.125515",
     "status": "completed"
    },
    "tags": []
   },
   "outputs": [],
   "source": [
    "# cb_pred(X_test)"
   ]
  },
  {
   "cell_type": "code",
   "execution_count": 32,
   "id": "9e4eee23",
   "metadata": {
    "execution": {
     "iopub.execute_input": "2025-02-24T12:20:48.179071Z",
     "iopub.status.busy": "2025-02-24T12:20:48.178650Z",
     "iopub.status.idle": "2025-02-24T12:20:48.182626Z",
     "shell.execute_reply": "2025-02-24T12:20:48.181491Z"
    },
    "papermill": {
     "duration": 0.021447,
     "end_time": "2025-02-24T12:20:48.184315",
     "exception": false,
     "start_time": "2025-02-24T12:20:48.162868",
     "status": "completed"
    },
    "tags": []
   },
   "outputs": [],
   "source": [
    "# final_pred = np.mean([xgb_pred(dtest),lgb_pred(X_test),cb_pred(X_test)],axis=0)\n",
    "# final_pred"
   ]
  },
  {
   "cell_type": "code",
   "execution_count": 37,
   "id": "c883adf0",
   "metadata": {
    "execution": {
     "iopub.execute_input": "2025-03-13T00:34:50.925175Z",
     "iopub.status.busy": "2025-03-13T00:34:50.924601Z",
     "iopub.status.idle": "2025-03-13T00:34:50.936221Z",
     "shell.execute_reply": "2025-03-13T00:34:50.934765Z",
     "shell.execute_reply.started": "2025-03-13T00:34:50.925134Z"
    },
    "papermill": {
     "duration": 0.026121,
     "end_time": "2025-02-24T12:20:48.225643",
     "exception": false,
     "start_time": "2025-02-24T12:20:48.199522",
     "status": "completed"
    },
    "tags": [],
    "trusted": true
   },
   "outputs": [],
   "source": [
    "# Create Stacking Model\n",
    "stacking_model = StackingClassifier(\n",
    "    estimators=[\n",
    "        ('xgb', xgb.XGBClassifier(**params)),\n",
    "        ('lgb', lgb.LGBMClassifier(**lgb_params)),\n",
    "        ('cb', cb.CatBoostClassifier(iterations=10000,depth=10, learning_rate=0.01, loss_function='Logloss', random_seed=42))\n",
    "    ],\n",
    "    final_estimator=LogisticRegression(),\n",
    "    stack_method='predict_proba',\n",
    "    verbose=2,\n",
    "    n_jobs=-1\n",
    ")"
   ]
  },
  {
   "cell_type": "code",
   "execution_count": 38,
   "id": "45fb5996",
   "metadata": {
    "execution": {
     "iopub.execute_input": "2025-03-13T00:34:54.307330Z",
     "iopub.status.busy": "2025-03-13T00:34:54.306940Z",
     "iopub.status.idle": "2025-03-13T01:20:26.042676Z",
     "shell.execute_reply": "2025-03-13T01:20:26.041256Z",
     "shell.execute_reply.started": "2025-03-13T00:34:54.307303Z"
    },
    "papermill": {
     "duration": 3116.154466,
     "end_time": "2025-02-24T13:12:44.395770",
     "exception": false,
     "start_time": "2025-02-24T12:20:48.241304",
     "status": "completed"
    },
    "tags": [],
    "trusted": true
   },
   "outputs": [],
   "source": [
    "stacking_model.fit(X_train_final.drop(columns=['isic_id'],axis=1), y_train_final)\n",
    "final_pred = stacking_model.predict_proba(X_test.drop(columns=['isic_id'],axis=1))"
   ]
  },
  {
   "cell_type": "code",
   "execution_count": 35,
   "id": "dba477e7",
   "metadata": {
    "execution": {
     "iopub.execute_input": "2025-02-24T13:12:44.439311Z",
     "iopub.status.busy": "2025-02-24T13:12:44.438881Z",
     "iopub.status.idle": "2025-02-24T13:12:44.447203Z",
     "shell.execute_reply": "2025-02-24T13:12:44.445864Z"
    },
    "papermill": {
     "duration": 0.027403,
     "end_time": "2025-02-24T13:12:44.449271",
     "exception": false,
     "start_time": "2025-02-24T13:12:44.421868",
     "status": "completed"
    },
    "tags": []
   },
   "outputs": [
    {
     "data": {
      "text/plain": [
       "array([0.00326732, 0.00317805, 0.00328457])"
      ]
     },
     "execution_count": 35,
     "metadata": {},
     "output_type": "execute_result"
    }
   ],
   "source": [
    "final_pred = final_pred[:,1]\n",
    "final_pred"
   ]
  },
  {
   "cell_type": "code",
   "execution_count": 36,
   "id": "eec7221f",
   "metadata": {
    "execution": {
     "iopub.execute_input": "2025-02-24T13:12:44.481706Z",
     "iopub.status.busy": "2025-02-24T13:12:44.481367Z",
     "iopub.status.idle": "2025-02-24T13:12:44.494407Z",
     "shell.execute_reply": "2025-02-24T13:12:44.493350Z"
    },
    "papermill": {
     "duration": 0.031305,
     "end_time": "2025-02-24T13:12:44.496271",
     "exception": false,
     "start_time": "2025-02-24T13:12:44.464966",
     "status": "completed"
    },
    "tags": []
   },
   "outputs": [
    {
     "data": {
      "text/html": [
       "<div>\n",
       "<style scoped>\n",
       "    .dataframe tbody tr th:only-of-type {\n",
       "        vertical-align: middle;\n",
       "    }\n",
       "\n",
       "    .dataframe tbody tr th {\n",
       "        vertical-align: top;\n",
       "    }\n",
       "\n",
       "    .dataframe thead th {\n",
       "        text-align: right;\n",
       "    }\n",
       "</style>\n",
       "<table border=\"1\" class=\"dataframe\">\n",
       "  <thead>\n",
       "    <tr style=\"text-align: right;\">\n",
       "      <th></th>\n",
       "      <th>isic_id</th>\n",
       "      <th>0</th>\n",
       "    </tr>\n",
       "  </thead>\n",
       "  <tbody>\n",
       "    <tr>\n",
       "      <th>0</th>\n",
       "      <td>ISIC_0015657</td>\n",
       "      <td>0.003267</td>\n",
       "    </tr>\n",
       "    <tr>\n",
       "      <th>1</th>\n",
       "      <td>ISIC_0015729</td>\n",
       "      <td>0.003178</td>\n",
       "    </tr>\n",
       "    <tr>\n",
       "      <th>2</th>\n",
       "      <td>ISIC_0015740</td>\n",
       "      <td>0.003285</td>\n",
       "    </tr>\n",
       "  </tbody>\n",
       "</table>\n",
       "</div>"
      ],
      "text/plain": [
       "        isic_id         0\n",
       "0  ISIC_0015657  0.003267\n",
       "1  ISIC_0015729  0.003178\n",
       "2  ISIC_0015740  0.003285"
      ]
     },
     "execution_count": 36,
     "metadata": {},
     "output_type": "execute_result"
    }
   ],
   "source": [
    "sub_df = pd.concat([X_test['isic_id'],pd.Series(final_pred)],axis=1)\n",
    "sub_df.head()"
   ]
  },
  {
   "cell_type": "code",
   "execution_count": 37,
   "id": "898b7441",
   "metadata": {
    "execution": {
     "iopub.execute_input": "2025-02-24T13:12:44.529345Z",
     "iopub.status.busy": "2025-02-24T13:12:44.528929Z",
     "iopub.status.idle": "2025-02-24T13:12:44.540408Z",
     "shell.execute_reply": "2025-02-24T13:12:44.539280Z"
    },
    "papermill": {
     "duration": 0.030685,
     "end_time": "2025-02-24T13:12:44.542469",
     "exception": false,
     "start_time": "2025-02-24T13:12:44.511784",
     "status": "completed"
    },
    "tags": []
   },
   "outputs": [],
   "source": [
    "sub_df.to_csv('submission.csv', index=False)"
   ]
  },
  {
   "cell_type": "code",
   "execution_count": null,
   "id": "bf6f6bff",
   "metadata": {
    "papermill": {
     "duration": 0.0151,
     "end_time": "2025-02-24T13:12:44.574423",
     "exception": false,
     "start_time": "2025-02-24T13:12:44.559323",
     "status": "completed"
    },
    "tags": []
   },
   "outputs": [],
   "source": []
  }
 ],
 "metadata": {
  "kaggle": {
   "accelerator": "none",
   "dataSources": [
    {
     "databundleVersionId": 9094797,
     "sourceId": 63056,
     "sourceType": "competition"
    }
   ],
   "dockerImageVersionId": 30918,
   "isGpuEnabled": false,
   "isInternetEnabled": false,
   "language": "python",
   "sourceType": "notebook"
  },
  "kernelspec": {
   "display_name": "Python 3",
   "language": "python",
   "name": "python3"
  },
  "language_info": {
   "codemirror_mode": {
    "name": "ipython",
    "version": 3
   },
   "file_extension": ".py",
   "mimetype": "text/x-python",
   "name": "python",
   "nbconvert_exporter": "python",
   "pygments_lexer": "ipython3",
   "version": "3.10.12"
  },
  "papermill": {
   "default_parameters": {},
   "duration": 3269.802199,
   "end_time": "2025-02-24T13:12:46.726137",
   "environment_variables": {},
   "exception": null,
   "input_path": "__notebook__.ipynb",
   "output_path": "__notebook__.ipynb",
   "parameters": {},
   "start_time": "2025-02-24T12:18:16.923938",
   "version": "2.6.0"
  }
 },
 "nbformat": 4,
 "nbformat_minor": 5
}
